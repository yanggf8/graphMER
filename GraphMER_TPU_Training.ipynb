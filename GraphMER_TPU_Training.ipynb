{
  "nbformat": 4,
  "nbformat_minor": 0,
  "metadata": {
    "colab": {
      "provenance": [],
      "machine_shape": "hm",
      "gpuType": "TPU"
    },
    "kernelspec": {
      "name": "python3",
      "display_name": "Python 3"
    },
    "language_info": {
      "name": "python"
    },
    "accelerator": "TPU"
  },
  "cells": [
    {
      "cell_type": "markdown",
      "source": [
        "# GraphMER-SE: TPU Training on Google Colab\n",
        "\n",
        "**Dataset:** 30,826 triples (99.10% quality)  \n",
        "**Hardware:** TPU v2-8 (8 cores)  \n",
        "**Status:** Production-ready\n",
        "\n",
        "---\n",
        "\n",
        "## Setup Instructions\n",
        "\n",
        "1. **Change Runtime to TPU:**\n",
        "   - Runtime → Change runtime type → TPU → Save\n",
        "\n",
        "2. **Run cells in order** (1 → 2 → 3 → ...)\n",
        "\n",
        "3. **Wait for each cell to complete** before moving to next\n",
        "\n",
        "---"
      ],
      "metadata": {
        "id": "header"
      }
    },
    {
      "cell_type": "markdown",
      "source": [
        "## Cell 1: Verify TPU Access"
      ],
      "metadata": {
        "id": "cell1-header"
      }
    },
    {
      "cell_type": "code",
      "source": [
        "# Verify TPU is available\n",
        "try:\n",
        "    import torch_xla\n",
        "    import torch_xla.core.xla_model as xm\n",
        "    device = xm.xla_device()\n",
        "    cores = xm.xrt_world_size()\n",
        "    print(f\"✅ TPU device available: {device}\")\n",
        "    print(f\"✅ TPU cores: {cores}\")\n",
        "    if cores != 8:\n",
        "        print(\"⚠️  Warning: Expected 8 TPU cores, got\", cores)\n",
        "except ImportError:\n",
        "    print(\"❌ torch-xla not found!\")\n",
        "    print(\"\\nPlease change runtime to TPU:\")\n",
        "    print(\"Runtime → Change runtime type → TPU → Save\")\n",
        "    raise"
      ],
      "metadata": {
        "id": "cell1"
      },
      "execution_count": null,
      "outputs": []
    },
    {
      "cell_type": "markdown",
      "source": [
        "## Cell 2: Mount Google Drive"
      ],
      "metadata": {
        "id": "cell2-header"
      }
    },
    {
      "cell_type": "code",
      "source": [
        "from google.colab import drive\n",
        "drive.mount('/content/drive')\n",
        "print(\"✅ Google Drive mounted\")"
      ],
      "metadata": {
        "id": "cell2"
      },
      "execution_count": null,
      "outputs": []
    },
    {
      "cell_type": "markdown",
      "source": [
        "## Cell 3: Extract Project from Drive"
      ],
      "metadata": {
        "id": "cell3-header"
      }
    },
    {
      "cell_type": "code",
      "source": [
        "import os\n",
        "\n",
        "# Extract package\n",
        "print(\"📦 Extracting project...\")\n",
        "!tar -xzf /content/drive/MyDrive/GraphMER/graphmer_colab.tar.gz -C /content/\n",
        "\n",
        "# Change to project directory\n",
        "os.chdir('/content/colab_deploy')\n",
        "print(\"✅ Project extracted\")\n",
        "print(f\"📁 Working directory: {os.getcwd()}\")\n",
        "\n",
        "# List contents\n",
        "!ls -lh"
      ],
      "metadata": {
        "id": "cell3"
      },
      "execution_count": null,
      "outputs": []
    },
    {
      "cell_type": "markdown",
      "source": [
        "## Cell 4: Verify Data Files"
      ],
      "metadata": {
        "id": "cell4-header"
      }
    },
    {
      "cell_type": "code",
      "source": [
        "# Check data directory\n",
        "print(\"📊 Data files:\")\n",
        "!ls -lh data/\n",
        "\n",
        "print(\"\\n📈 Triple count:\")\n",
        "!wc -l data/enhanced_multilang.jsonl\n",
        "\n",
        "# Verify count\n",
        "import subprocess\n",
        "result = subprocess.run(['wc', '-l', 'data/enhanced_multilang.jsonl'], \n",
        "                       capture_output=True, text=True)\n",
        "count = int(result.stdout.split()[0])\n",
        "\n",
        "if count >= 30000:\n",
        "    print(f\"✅ Data verified: {count:,} triples (exceeds 30k requirement)\")\n",
        "else:\n",
        "    print(f\"❌ Insufficient data: {count:,} triples (need ≥30,000)\")"
      ],
      "metadata": {
        "id": "cell4"
      },
      "execution_count": null,
      "outputs": []
    },
    {
      "cell_type": "markdown",
      "source": [
        "## Cell 5: Install Dependencies"
      ],
      "metadata": {
        "id": "cell5-header"
      }
    },
    {
      "cell_type": "code",
      "source": [
        "print(\"📦 Installing dependencies...\")\n",
        "!pip install -q transformers datasets pyyaml networkx\n",
        "print(\"✅ Dependencies installed\")"
      ],
      "metadata": {
        "id": "cell5"
      },
      "execution_count": null,
      "outputs": []
    },
    {
      "cell_type": "markdown",
      "source": [
        "## Cell 6: Validate Knowledge Graph Quality"
      ],
      "metadata": {
        "id": "cell6-header"
      }
    },
    {
      "cell_type": "code",
      "source": [
        "print(\"🔍 Running knowledge graph validation...\\n\")\n",
        "\n",
        "!python src/ontology/kg_validator.py \\\n",
        "  data/enhanced_multilang.jsonl \\\n",
        "  data/enhanced_multilang.entities.jsonl \\\n",
        "  docs/specs/ontology_spec.yaml\n",
        "\n",
        "print(\"\\n✅ Data validation complete\")\n",
        "print(\"Expected: domain_range_ratio ≥ 0.99, inherits_acyclic: True\")"
      ],
      "metadata": {
        "id": "cell6"
      },
      "execution_count": null,
      "outputs": []
    },
    {
      "cell_type": "markdown",
      "source": [
        "## Cell 7: Verify TPU Configuration"
      ],
      "metadata": {
        "id": "cell7-header"
      }
    },
    {
      "cell_type": "code",
      "source": [
        "import torch_xla\n",
        "import torch_xla.core.xla_model as xm\n",
        "\n",
        "print(\"🔧 TPU Configuration:\")\n",
        "print(f\"✅ TPU device: {xm.xla_device()}\")\n",
        "print(f\"✅ TPU cores: {xm.xrt_world_size()}\")\n",
        "print(f\"✅ torch-xla version: {torch_xla.__version__}\")\n",
        "\n",
        "# Test TPU computation\n",
        "import torch\n",
        "device = xm.xla_device()\n",
        "x = torch.randn(3, 3).to(device)\n",
        "y = torch.randn(3, 3).to(device)\n",
        "z = x @ y\n",
        "print(f\"✅ TPU computation test passed\")"
      ],
      "metadata": {
        "id": "cell7"
      },
      "execution_count": null,
      "outputs": []
    },
    {
      "cell_type": "markdown",
      "source": [
        "## Cell 8: Create Output Directories"
      ],
      "metadata": {
        "id": "cell8-header"
      }
    },
    {
      "cell_type": "code",
      "source": [
        "# Create directories for outputs and checkpoints\n",
        "!mkdir -p /content/drive/MyDrive/GraphMER/outputs\n",
        "!mkdir -p /content/drive/MyDrive/GraphMER/checkpoints\n",
        "\n",
        "print(\"✅ Output directories created:\")\n",
        "print(\"   📁 /content/drive/MyDrive/GraphMER/outputs\")\n",
        "print(\"   📁 /content/drive/MyDrive/GraphMER/checkpoints\")\n",
        "print(\"\\n💾 Checkpoints will be saved to Drive every 500 steps\")"
      ],
      "metadata": {
        "id": "cell8"
      },
      "execution_count": null,
      "outputs": []
    },
    {
      "cell_type": "markdown",
      "source": [
        "## Cell 9: Run Training Test (100 steps, ~5 minutes)\n",
        "\n",
        "**This is a smoke test to verify everything works before full training.**"
      ],
      "metadata": {
        "id": "cell9-header"
      }
    },
    {
      "cell_type": "code",
      "source": [
        "print(\"🚀 Starting training test (100 steps, ~5 minutes)...\\n\")\n",
        "\n",
        "!python scripts/train.py \\\n",
        "  --config configs/train_colab.yaml \\\n",
        "  --steps 100 \\\n",
        "  --output_dir /content/drive/MyDrive/GraphMER/outputs\n",
        "\n",
        "print(\"\\n✅ Training test complete!\")\n",
        "print(\"📊 Check metrics in next cell\")"
      ],
      "metadata": {
        "id": "cell9"
      },
      "execution_count": null,
      "outputs": []
    },
    {
      "cell_type": "markdown",
      "source": [
        "## Cell 10: View Training Metrics"
      ],
      "metadata": {
        "id": "cell10-header"
      }
    },
    {
      "cell_type": "code",
      "source": [
        "import pandas as pd\n",
        "import matplotlib.pyplot as plt\n",
        "\n",
        "# Load metrics\n",
        "df = pd.read_csv('/content/drive/MyDrive/GraphMER/outputs/train_metrics.csv')\n",
        "\n",
        "print(\"📊 Last 10 training steps:\")\n",
        "print(df.tail(10).to_string(index=False))\n",
        "\n",
        "# Plot metrics\n",
        "fig, (ax1, ax2) = plt.subplots(1, 2, figsize=(14, 5))\n",
        "\n",
        "# Loss plot\n",
        "ax1.plot(df['step'], df['train_loss'], 'b-', linewidth=2)\n",
        "ax1.set_title('Training Loss', fontsize=14, fontweight='bold')\n",
        "ax1.set_xlabel('Step', fontsize=12)\n",
        "ax1.set_ylabel('Loss', fontsize=12)\n",
        "ax1.grid(True, alpha=0.3)\n",
        "\n",
        "# Accuracy plot\n",
        "ax2.plot(df['step'], df['val_acc'], 'g-', linewidth=2)\n",
        "ax2.set_title('Validation Accuracy', fontsize=14, fontweight='bold')\n",
        "ax2.set_xlabel('Step', fontsize=12)\n",
        "ax2.set_ylabel('Accuracy', fontsize=12)\n",
        "ax2.grid(True, alpha=0.3)\n",
        "\n",
        "plt.tight_layout()\n",
        "plt.show()\n",
        "\n",
        "print(f\"\\n✅ Metrics visualized\")\n",
        "print(f\"📈 Final validation accuracy: {df['val_acc'].iloc[-1]:.4f}\")"
      ],
      "metadata": {
        "id": "cell10"
      },
      "execution_count": null,
      "outputs": []
    },
    {
      "cell_type": "markdown",
      "source": [
        "## Cell 11: Full Training Run (1000 steps, ~15-20 minutes)\n",
        "\n",
        "**Run this after smoke test passes. Adjust `--steps` as needed.**"
      ],
      "metadata": {
        "id": "cell11-header"
      }
    },
    {
      "cell_type": "code",
      "source": [
        "print(\"🚀 Starting full training (1000 steps, ~15-20 minutes)...\\n\")\n",
        "\n",
        "!python scripts/train.py \\\n",
        "  --config configs/train_colab.yaml \\\n",
        "  --steps 1000 \\\n",
        "  --output_dir /content/drive/MyDrive/GraphMER/outputs \\\n",
        "  --checkpoint_dir /content/drive/MyDrive/GraphMER/checkpoints\n",
        "\n",
        "print(\"\\n✅ Full training complete!\")\n",
        "print(\"📊 Checkpoints saved to Drive\")\n",
        "print(\"📈 Re-run Cell 10 to view updated metrics\")"
      ],
      "metadata": {
        "id": "cell11"
      },
      "execution_count": null,
      "outputs": []
    },
    {
      "cell_type": "markdown",
      "source": [
        "## Cell 12: Resume Training from Checkpoint\n",
        "\n",
        "**Use this if session expires (12-hour limit on Colab Free).**"
      ],
      "metadata": {
        "id": "cell12-header"
      }
    },
    {
      "cell_type": "code",
      "source": [
        "# Find latest checkpoint\n",
        "import glob\n",
        "checkpoints = glob.glob('/content/drive/MyDrive/GraphMER/checkpoints/checkpoint_*.pt')\n",
        "if checkpoints:\n",
        "    latest = sorted(checkpoints)[-1]\n",
        "    print(f\"📁 Latest checkpoint: {latest}\")\n",
        "    \n",
        "    # Extract step number\n",
        "    import re\n",
        "    match = re.search(r'checkpoint_(\\d+)\\.pt', latest)\n",
        "    if match:\n",
        "        step = int(match.group(1))\n",
        "        print(f\"📊 Resuming from step: {step}\")\n",
        "        \n",
        "        # Resume training\n",
        "        !python scripts/train.py \\\n",
        "          --config configs/train_colab.yaml \\\n",
        "          --resume_from {latest} \\\n",
        "          --steps 2000 \\\n",
        "          --output_dir /content/drive/MyDrive/GraphMER/outputs \\\n",
        "          --checkpoint_dir /content/drive/MyDrive/GraphMER/checkpoints\n",
        "        \n",
        "        print(\"\\n✅ Training resumed and continued!\")\n",
        "else:\n",
        "    print(\"❌ No checkpoints found. Run Cell 11 first.\")"
      ],
      "metadata": {
        "id": "cell12"
      },
      "execution_count": null,
      "outputs": []
    },
    {
      "cell_type": "markdown",
      "source": [
        "## Cell 13: Check Files in Drive"
      ],
      "metadata": {
        "id": "cell13-header"
      }
    },
    {
      "cell_type": "code",
      "source": [
        "print(\"📁 Files in GraphMER folder:\\n\")\n",
        "!ls -lh /content/drive/MyDrive/GraphMER/\n",
        "\n",
        "print(\"\\n📊 Outputs:\")\n",
        "!ls -lh /content/drive/MyDrive/GraphMER/outputs/\n",
        "\n",
        "print(\"\\n💾 Checkpoints:\")\n",
        "!ls -lh /content/drive/MyDrive/GraphMER/checkpoints/"
      ],
      "metadata": {
        "id": "cell13"
      },
      "execution_count": null,
      "outputs": []
    },
    {
      "cell_type": "markdown",
      "source": [
        "---\n",
        "\n",
        "## 📚 Documentation\n",
        "\n",
        "- **Setup Guide:** See `COLAB_TPU_SETUP.md` in project\n",
        "- **Validation Results:** 30,826 triples, 99.10% quality\n",
        "- **Expected Performance:** 1500-2000 tokens/sec after warmup\n",
        "\n",
        "## 💡 Tips\n",
        "\n",
        "- **Session Limit:** Colab Free = 12 hours, Pro = 24 hours\n",
        "- **Checkpoints:** Auto-saved every 500 steps to Drive\n",
        "- **Resume:** Use Cell 12 if session expires\n",
        "- **Monitor:** Re-run Cell 10 anytime to see updated plots\n",
        "\n",
        "## 🚀 Status\n",
        "\n",
        "**Production-ready for TPU training!**\n",
        "\n",
        "---\n",
        "\n",
        "*Generated: 2025-10-20*  \n",
        "*System: GraphMER-SE v1.0*"
      ],
      "metadata": {
        "id": "footer"
      }
    }
  ]
}
